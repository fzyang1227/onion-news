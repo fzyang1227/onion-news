{
 "cells": [
  {
   "cell_type": "code",
   "execution_count": 1,
   "metadata": {},
   "outputs": [],
   "source": [
    "# import libraries\n",
    "from textblob import TextBlob\n",
    "import plotly.express as px\n",
    "import pandas as pd\n",
    "import matplotlib.pyplot as plt"
   ]
  },
  {
   "cell_type": "code",
   "execution_count": 2,
   "metadata": {},
   "outputs": [
    {
     "data": {
      "text/html": [
       "<div>\n",
       "<style scoped>\n",
       "    .dataframe tbody tr th:only-of-type {\n",
       "        vertical-align: middle;\n",
       "    }\n",
       "\n",
       "    .dataframe tbody tr th {\n",
       "        vertical-align: top;\n",
       "    }\n",
       "\n",
       "    .dataframe thead th {\n",
       "        text-align: right;\n",
       "    }\n",
       "</style>\n",
       "<table border=\"1\" class=\"dataframe\">\n",
       "  <thead>\n",
       "    <tr style=\"text-align: right;\">\n",
       "      <th></th>\n",
       "      <th>title</th>\n",
       "      <th>url</th>\n",
       "      <th>subreddit</th>\n",
       "      <th>text</th>\n",
       "      <th>sentiment</th>\n",
       "    </tr>\n",
       "  </thead>\n",
       "  <tbody>\n",
       "    <tr>\n",
       "      <th>0</th>\n",
       "      <td>Meta's threat to close down Facebook and Insta...</td>\n",
       "      <td>https://www.cityam.com/metas-threat-to-close-d...</td>\n",
       "      <td>nottheonion</td>\n",
       "      <td>Meta’s threat to close down Facebook and Insta...</td>\n",
       "      <td>0.104168</td>\n",
       "    </tr>\n",
       "    <tr>\n",
       "      <th>1</th>\n",
       "      <td>Pregnant Texas woman driving in HOV lane told ...</td>\n",
       "      <td>https://www.chron.com/news/houston-texas/artic...</td>\n",
       "      <td>nottheonion</td>\n",
       "      <td>Is an unborn fetus a human being in the eyes o...</td>\n",
       "      <td>0.087656</td>\n",
       "    </tr>\n",
       "    <tr>\n",
       "      <th>2</th>\n",
       "      <td>Mark Zuckerberg Says Meta Employees “Lovingly”...</td>\n",
       "      <td>https://consequence.net/2022/04/mark-zuckerber...</td>\n",
       "      <td>nottheonion</td>\n",
       "      <td>Mark Zuckerberg hasn’t always had a squeaky-cl...</td>\n",
       "      <td>0.031250</td>\n",
       "    </tr>\n",
       "    <tr>\n",
       "      <th>3</th>\n",
       "      <td>Police didn't immediately confront the gunman ...</td>\n",
       "      <td>https://www.insider.com/texas-shooting-police-...</td>\n",
       "      <td>nottheonion</td>\n",
       "      <td>Law enforcement is getting slammed for its res...</td>\n",
       "      <td>0.017989</td>\n",
       "    </tr>\n",
       "    <tr>\n",
       "      <th>4</th>\n",
       "      <td>Shaquille O'Neal says gorillas freak out when ...</td>\n",
       "      <td>https://www.insider.com/gorillas-afraid-of-sha...</td>\n",
       "      <td>nottheonion</td>\n",
       "      <td>Shaquille O'Neal says gorillas always freak ou...</td>\n",
       "      <td>0.124746</td>\n",
       "    </tr>\n",
       "  </tbody>\n",
       "</table>\n",
       "</div>"
      ],
      "text/plain": [
       "                                               title  \\\n",
       "0  Meta's threat to close down Facebook and Insta...   \n",
       "1  Pregnant Texas woman driving in HOV lane told ...   \n",
       "2  Mark Zuckerberg Says Meta Employees “Lovingly”...   \n",
       "3  Police didn't immediately confront the gunman ...   \n",
       "4  Shaquille O'Neal says gorillas freak out when ...   \n",
       "\n",
       "                                                 url    subreddit  \\\n",
       "0  https://www.cityam.com/metas-threat-to-close-d...  nottheonion   \n",
       "1  https://www.chron.com/news/houston-texas/artic...  nottheonion   \n",
       "2  https://consequence.net/2022/04/mark-zuckerber...  nottheonion   \n",
       "3  https://www.insider.com/texas-shooting-police-...  nottheonion   \n",
       "4  https://www.insider.com/gorillas-afraid-of-sha...  nottheonion   \n",
       "\n",
       "                                                text  sentiment  \n",
       "0  Meta’s threat to close down Facebook and Insta...   0.104168  \n",
       "1  Is an unborn fetus a human being in the eyes o...   0.087656  \n",
       "2  Mark Zuckerberg hasn’t always had a squeaky-cl...   0.031250  \n",
       "3  Law enforcement is getting slammed for its res...   0.017989  \n",
       "4  Shaquille O'Neal says gorillas always freak ou...   0.124746  "
      ]
     },
     "execution_count": 2,
     "metadata": {},
     "output_type": "execute_result"
    }
   ],
   "source": [
    "# read in the data\n",
    "df_text = pd.read_csv('articles.csv')\n",
    "\n",
    "# create a new column for sentiment from negative (-1) to positive (1)\n",
    "df_text['sentiment']  = df_text['text'].apply(lambda i: TextBlob(str(i)).sentiment.polarity)\n",
    "df_text.head()"
   ]
  },
  {
   "cell_type": "code",
   "execution_count": 3,
   "metadata": {},
   "outputs": [
    {
     "data": {
      "image/png": "[encoded data removed]",
      "text/plain": [
       "<Figure size 432x288 with 1 Axes>"
      ]
     },
     "metadata": {
      "needs_background": "light"
     },
     "output_type": "display_data"
    }
   ],
   "source": [
    "# select data for TheOnion only\n",
    "df_text_onion = df_text[df_text['subreddit']=='TheOnion']\n",
    "\n",
    "# plot the histogram with data labels\n",
    "plt.hist(df_text_onion['sentiment'], bins=20, range=[-1, 1])\n",
    "plt.title(\"The Onion - Sentiment Polarity Distribution\")\n",
    "plt.xlabel(\"Sentiment Polarity\")\n",
    "plt.ylabel(\"Number of Articles\")\n",
    "plt.grid(linewidth = 0.5)\n",
    "\n",
    "# save the histogram\n",
    "plt.savefig('hist-onion.png')\n",
    "\n",
    "# display the plot\n",
    "plt.show()"
   ]
  },
  {
   "cell_type": "code",
   "execution_count": 4,
   "metadata": {},
   "outputs": [
    {
     "data": {
      "image/png": "[encoded data removed]",
      "text/plain": [
       "<Figure size 432x288 with 1 Axes>"
      ]
     },
     "metadata": {
      "needs_background": "light"
     },
     "output_type": "display_data"
    }
   ],
   "source": [
    "# select data for NotTheOnion only\n",
    "df_text_notonion = df_text[df_text['subreddit']=='nottheonion']\n",
    "\n",
    "# plot the histogram with data labels\n",
    "plt.hist(df_text_notonion['sentiment'], bins=20, range=[-1, 1])\n",
    "plt.title(\"Not the Onion - Sentiment Polarity Distribution\")\n",
    "plt.xlabel(\"Sentiment Polarity\")\n",
    "plt.ylabel(\"Number of Articles\")\n",
    "plt.grid(linewidth = 0.5)\n",
    "\n",
    "# save the histogram\n",
    "plt.savefig('hist-notonion.png')\n",
    "\n",
    "# display the plot\n",
    "plt.show()"
   ]
  }
 ],
 "metadata": {
  "kernelspec": {
   "display_name": "Python 3",
   "language": "python",
   "name": "python3"
  },
  "language_info": {
   "codemirror_mode": {
    "name": "ipython",
    "version": 3
   },
   "file_extension": ".py",
   "mimetype": "text/x-python",
   "name": "python",
   "nbconvert_exporter": "python",
   "pygments_lexer": "ipython3",
   "version": "3.8.5"
  }
 },
 "nbformat": 4,
 "nbformat_minor": 4
}
