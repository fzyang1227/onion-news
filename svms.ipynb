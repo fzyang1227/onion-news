{
 "cells": [
  {
   "cell_type": "code",
   "execution_count": 1,
   "metadata": {},
   "outputs": [
    {
     "data": {
      "text/html": [
       "<div>\n",
       "<style scoped>\n",
       "    .dataframe tbody tr th:only-of-type {\n",
       "        vertical-align: middle;\n",
       "    }\n",
       "\n",
       "    .dataframe tbody tr th {\n",
       "        vertical-align: top;\n",
       "    }\n",
       "\n",
       "    .dataframe thead th {\n",
       "        text-align: right;\n",
       "    }\n",
       "</style>\n",
       "<table border=\"1\" class=\"dataframe\">\n",
       "  <thead>\n",
       "    <tr style=\"text-align: right;\">\n",
       "      <th></th>\n",
       "      <th>as_str</th>\n",
       "      <th>subreddit</th>\n",
       "    </tr>\n",
       "  </thead>\n",
       "  <tbody>\n",
       "    <tr>\n",
       "      <th>0</th>\n",
       "      <td>data data data data data data data data data d...</td>\n",
       "      <td>nottheonion</td>\n",
       "    </tr>\n",
       "    <tr>\n",
       "      <th>1</th>\n",
       "      <td>said said said said said said said officer off...</td>\n",
       "      <td>nottheonion</td>\n",
       "    </tr>\n",
       "    <tr>\n",
       "      <th>2</th>\n",
       "      <td>given given employee employee energy energy ne...</td>\n",
       "      <td>nottheonion</td>\n",
       "    </tr>\n",
       "    <tr>\n",
       "      <th>3</th>\n",
       "      <td>school school school school school shooting sh...</td>\n",
       "      <td>nottheonion</td>\n",
       "    </tr>\n",
       "    <tr>\n",
       "      <th>4</th>\n",
       "      <td>gorilla gorilla gorilla gorilla gorilla gorill...</td>\n",
       "      <td>nottheonion</td>\n",
       "    </tr>\n",
       "    <tr>\n",
       "      <th>...</th>\n",
       "      <td>...</td>\n",
       "      <td>...</td>\n",
       "    </tr>\n",
       "    <tr>\n",
       "      <th>1555</th>\n",
       "      <td>advocacy advocacy awarded global fight surpris...</td>\n",
       "      <td>TheOnion</td>\n",
       "    </tr>\n",
       "    <tr>\n",
       "      <th>1556</th>\n",
       "      <td>shit shit shit people people word word said sa...</td>\n",
       "      <td>TheOnion</td>\n",
       "    </tr>\n",
       "    <tr>\n",
       "      <th>1557</th>\n",
       "      <td>slide slide slide slide slide slide slide slid...</td>\n",
       "      <td>TheOnion</td>\n",
       "    </tr>\n",
       "    <tr>\n",
       "      <th>1558</th>\n",
       "      <td>would would would recommendation recommendatio...</td>\n",
       "      <td>TheOnion</td>\n",
       "    </tr>\n",
       "    <tr>\n",
       "      <th>1559</th>\n",
       "      <td>would would would woman woman woman photo phot...</td>\n",
       "      <td>TheOnion</td>\n",
       "    </tr>\n",
       "  </tbody>\n",
       "</table>\n",
       "<p>1560 rows × 2 columns</p>\n",
       "</div>"
      ],
      "text/plain": [
       "                                                 as_str    subreddit\n",
       "0     data data data data data data data data data d...  nottheonion\n",
       "1     said said said said said said said officer off...  nottheonion\n",
       "2     given given employee employee energy energy ne...  nottheonion\n",
       "3     school school school school school shooting sh...  nottheonion\n",
       "4     gorilla gorilla gorilla gorilla gorilla gorill...  nottheonion\n",
       "...                                                 ...          ...\n",
       "1555  advocacy advocacy awarded global fight surpris...     TheOnion\n",
       "1556  shit shit shit people people word word said sa...     TheOnion\n",
       "1557  slide slide slide slide slide slide slide slid...     TheOnion\n",
       "1558  would would would recommendation recommendatio...     TheOnion\n",
       "1559  would would would woman woman woman photo phot...     TheOnion\n",
       "\n",
       "[1560 rows x 2 columns]"
      ]
     },
     "execution_count": 1,
     "metadata": {},
     "output_type": "execute_result"
    }
   ],
   "source": [
    "import pandas as pd\n",
    "import numpy as np\n",
    "import json\n",
    "\n",
    "# read in cleaned text of articles (from clean_articles.py)\n",
    "df_art = pd.read_csv('clean_articles.csv')\n",
    "df_art.word_counts = df_art.word_counts.apply(lambda x: x[8:-1].replace(\"'\", \"\\\"\"))\n",
    "df_art.word_counts = df_art.word_counts.apply(json.loads)\n",
    "\n",
    "# configure as string text and classification\n",
    "df_art['as_str'] = df_art.word_counts.apply(lambda x: ' '.join([k for k,v in x.items() for i in range(v)]))\n",
    "feat = df_art[['as_str', 'subreddit']]\n",
    "feat"
   ]
  },
  {
   "cell_type": "code",
   "execution_count": 8,
   "metadata": {},
   "outputs": [
    {
     "data": {
      "text/plain": [
       "TheOnion       864\n",
       "nottheonion    696\n",
       "Name: subreddit, dtype: int64"
      ]
     },
     "execution_count": 8,
     "metadata": {},
     "output_type": "execute_result"
    }
   ],
   "source": [
    "feat.subreddit.value_counts()"
   ]
  },
  {
   "cell_type": "code",
   "execution_count": 2,
   "metadata": {},
   "outputs": [],
   "source": [
    "from sklearn.feature_extraction.text import TfidfVectorizer\n",
    "from sklearn.feature_extraction.text import CountVectorizer\n",
    "from sklearn.metrics import accuracy_score\n",
    "from sklearn.svm import SVC\n",
    "from sklearn.model_selection import KFold\n",
    "from text_func import process_text\n",
    "\n",
    "def train_test_svm(df, vectorizer=TfidfVectorizer(), kernel='linear', C=1.0, k=5):\n",
    "    ''' train and test SVM on feature vectors\n",
    "    arg. \n",
    "        feat: dataframe with text and classification\n",
    "        vectorizer: TFIDF or CountVectorizer\n",
    "        kernel: kernel for SVM\n",
    "        C: regularization parameter for SVM\n",
    "        k: number of folds for cross-validation\n",
    "    returns.\n",
    "        acc_v: accuracy of SVM\n",
    "    '''\n",
    "    acc = []\n",
    "    \n",
    "    kf = KFold(n_splits=k, shuffle=True, random_state=13)\n",
    "    for train_indices, test_indices in kf.split(df):\n",
    "        \n",
    "        # divide into train and test sets\n",
    "        train_df = df.iloc[train_indices]\n",
    "        test_df = df.iloc[test_indices]\n",
    "        \n",
    "        X_train, y_train = train_df.as_str, train_df.subreddit\n",
    "        X_test, y_test = test_df.as_str, test_df.subreddit\n",
    "        \n",
    "        # vectorize text\n",
    "        vect = vectorizer\n",
    "\n",
    "        # build feature vectors\n",
    "        X_train_v = vect.fit_transform(X_train)\n",
    "        X_test_v = vect.transform(X_test)\n",
    "        \n",
    "        # train SVM\n",
    "        svm_v = SVC(kernel=kernel, C=C)\n",
    "        svm_v.fit(X_train_v, y_train)\n",
    "        \n",
    "        # test SVM\n",
    "        y_pred_v = svm_v.predict(X_test_v)\n",
    "\n",
    "        # evaluate score and add to list\n",
    "        acc.append(accuracy_score(y_test, y_pred_v))\n",
    "\n",
    "    return np.average(acc)\n",
    "\n",
    "def svm_model(df, vectorizer=TfidfVectorizer(), kernel='linear', C=1.0):\n",
    "    ''' train and test SVM on feature vectors\n",
    "    arg. \n",
    "        feat: dataframe with text and classification\n",
    "        vectorizer: TFIDF or CountVectorizer\n",
    "        kernel: kernel for SVM\n",
    "        C: regularization parameter for SVM\n",
    "    returns.\n",
    "        svm_v: model\n",
    "        vect: vectorizer\n",
    "    '''\n",
    "    X, y = df.as_str, df.subreddit\n",
    "    \n",
    "    # vectorize text\n",
    "    vect = vectorizer\n",
    "\n",
    "    # build feature vectors\n",
    "    X_v = vect.fit_transform(X)\n",
    "    \n",
    "    # train SVM\n",
    "    svm_v = SVC(kernel=kernel, C=C)\n",
    "    svm_v.fit(X_v, y)\n",
    "    \n",
    "    return svm_v, vect\n",
    "\n",
    "def predict_onion(model, text, vectorizer):\n",
    "    ''' predict classification of text\n",
    "    arg. \n",
    "        model: trained model\n",
    "        text: string of text\n",
    "        vectorizer: TFIDF or CountVectorizer\n",
    "    returns.\n",
    "        y_pred_v: predicted classification\n",
    "    '''\n",
    "    \n",
    "    X = [process_text(text)]\n",
    "    \n",
    "    # vectorize text\n",
    "    vect = vectorizer\n",
    "\n",
    "    # build feature vectors\n",
    "    X_v = vect.transform(X)\n",
    "    \n",
    "    # predict\n",
    "    y_pred_v = model.predict(X_v)\n",
    "    \n",
    "    return y_pred_v[0]"
   ]
  },
  {
   "cell_type": "code",
   "execution_count": 3,
   "metadata": {},
   "outputs": [
    {
     "name": "stdout",
     "output_type": "stream",
     "text": [
      "TF-IDF accuracy: 93.08%\n",
      "CountVectorizer accuracy: 90.13%\n"
     ]
    }
   ],
   "source": [
    "# shuffle data\n",
    "shuffled = feat.sample(frac=1, random_state=13)\n",
    "\n",
    "# test function with TfidfVectorizer\n",
    "acc_tf = train_test_svm(shuffled, vectorizer=TfidfVectorizer())\n",
    "\n",
    "# test function with CountVectorizer\n",
    "acc_cv = train_test_svm(shuffled, vectorizer=CountVectorizer())\n",
    "\n",
    "print(f'TF-IDF accuracy: {round(acc_tf, 4)*100}%')\n",
    "print(f'CountVectorizer accuracy: {round(acc_cv, 4)*100}%')"
   ]
  },
  {
   "cell_type": "code",
   "execution_count": 4,
   "metadata": {},
   "outputs": [
    {
     "data": {
      "image/png": "[encoded data removed]",
      "text/plain": [
       "<Figure size 640x480 with 2 Axes>"
      ]
     },
     "metadata": {},
     "output_type": "display_data"
    }
   ],
   "source": [
    "from sklearn.metrics import confusion_matrix, ConfusionMatrixDisplay\n",
    "from sklearn.model_selection import train_test_split\n",
    "import matplotlib.pyplot as plt\n",
    "\n",
    "def confusion_matrix_svm(df, vectorizer=TfidfVectorizer(), kernel='linear', C=1.0):\n",
    "    # Confusion matrix of TF-IDF SVM model on train test split\n",
    "    X, y = df.as_str, df.subreddit\n",
    "    x_train, x_test, y_train, y_test = train_test_split(X, y, test_size=0.2, random_state=13)\n",
    "    \n",
    "    # vectorize text\n",
    "    vect = vectorizer\n",
    "\n",
    "    # build feature vectors\n",
    "    X_train_v = vect.fit_transform(x_train)\n",
    "    X_test_v = vect.transform(x_test)\n",
    "\n",
    "    # train SVM\n",
    "    svm_v = SVC(kernel=kernel, C=C)\n",
    "    svm_v.fit(X_train_v, y_train)\n",
    "\n",
    "    # test SVM\n",
    "    y_pred_v = svm_v.predict(X_test_v)\n",
    "    return confusion_matrix(y_test, y_pred_v), svm_v.classes_\n",
    "\n",
    "cm, labels = confusion_matrix_svm(shuffled)\n",
    "disp = ConfusionMatrixDisplay(confusion_matrix=cm, display_labels=labels)\n",
    "disp.plot()\n",
    "plt.show()"
   ]
  },
  {
   "attachments": {},
   "cell_type": "markdown",
   "metadata": {},
   "source": [
    "### example of model in use\n",
    "from https://www.theonion.com/louisville-no-way-to-prevent-this-says-only-nation-w-1850319203\n"
   ]
  },
  {
   "cell_type": "code",
   "execution_count": 5,
   "metadata": {},
   "outputs": [],
   "source": [
    "onion_article = 'LOUISVILLE, KY—In the hours following a violent rampage in Kentucky in which a lone attacker killed at least five individuals and injured six others, citizens living in the only country where this kind of mass killing routinely occurs reportedly concluded Monday that there was no way to prevent the massacre from taking place. “This was a terrible tragedy, but sometimes these things just happen and there’s nothing anyone can do to stop them,” said Ohio resident Pete Anderson, echoing sentiments expressed by tens of millions of individuals who reside in a nation where over half of the world’s deadliest mass shootings have occurred in the past 50 years and whose citizens are 20 times more likely to die of gun violence than those of other developed nations. “It’s a shame, but what can we do? There really wasn’t anything that was going to keep this individual from snapping and killing a lot of people if that’s what they really wanted.” At press time, residents of the only economically advanced nation in the world where roughly two mass shootings have occurred every month for the past eight years were referring to themselves and their situation as “helpless.”'"
   ]
  },
  {
   "cell_type": "code",
   "execution_count": 6,
   "metadata": {},
   "outputs": [
    {
     "data": {
      "text/plain": [
       "'TheOnion'"
      ]
     },
     "execution_count": 6,
     "metadata": {},
     "output_type": "execute_result"
    }
   ],
   "source": [
    "# build model and test on onion article\n",
    "tfidf_model, tfidf_vect = svm_model(shuffled, vectorizer=TfidfVectorizer())\n",
    "predict_onion(tfidf_model, onion_article, tfidf_vect)"
   ]
  },
  {
   "cell_type": "code",
   "execution_count": null,
   "metadata": {},
   "outputs": [],
   "source": []
  }
 ],
 "metadata": {
  "kernelspec": {
   "display_name": "ds-class",
   "language": "python",
   "name": "python3"
  },
  "language_info": {
   "codemirror_mode": {
    "name": "ipython",
    "version": 3
   },
   "file_extension": ".py",
   "mimetype": "text/x-python",
   "name": "python",
   "nbconvert_exporter": "python",
   "pygments_lexer": "ipython3",
   "version": "3.10.9"
  },
  "orig_nbformat": 4
 },
 "nbformat": 4,
 "nbformat_minor": 2
}
